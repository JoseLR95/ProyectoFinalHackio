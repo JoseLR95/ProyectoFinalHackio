{
 "cells": [
  {
   "cell_type": "code",
   "execution_count": 1,
   "id": "5c02cb29",
   "metadata": {},
   "outputs": [],
   "source": [
    "import pandas as pd\n",
    "pd.set_option('display.max_columns', None)"
   ]
  },
  {
   "cell_type": "code",
   "execution_count": 10,
   "id": "b90d09a3",
   "metadata": {},
   "outputs": [],
   "source": [
    "df_partidos = pd.read_csv(\"data/Team_Stats_Normalizado.csv\")\n",
    "df_completo = pd.read_csv(\"data/jugadores_info_normalizado.csv\")\n",
    "df_clubs = df_completo[[\"club\", \"clubID\"]].drop_duplicates().dropna().reset_index().drop(columns = [\"index\"])"
   ]
  },
  {
   "cell_type": "code",
   "execution_count": 15,
   "id": "129cf11d",
   "metadata": {},
   "outputs": [],
   "source": [
    "df_partidos.drop(columns = [\"home_team\", \"away_team\"], inplace = True)"
   ]
  },
  {
   "cell_type": "code",
   "execution_count": 12,
   "id": "f1512596",
   "metadata": {},
   "outputs": [],
   "source": [
    "diccionario_clubs = dict(zip(df_clubs[\"club\"], df_clubs[\"clubID\"]))"
   ]
  },
  {
   "cell_type": "code",
   "execution_count": 17,
   "id": "e93c6440",
   "metadata": {},
   "outputs": [],
   "source": [
    "df_partidos[\"id_club_local\"] = df_partidos[\"Local\"].map(diccionario_clubs)\n",
    "df_partidos[\"id_club_visitante\"] = df_partidos[\"Visitante\"].map(diccionario_clubs)\n",
    "df_partidos[\"id_club_stats\"] = df_partidos[\"Stats Equipo\"].map(diccionario_clubs)"
   ]
  },
  {
   "cell_type": "code",
   "execution_count": 20,
   "id": "1844498f",
   "metadata": {},
   "outputs": [],
   "source": [
    "df_partidos.rename(columns = {'Seleccionar esquema': 'Esquema'}, inplace = True)"
   ]
  },
  {
   "cell_type": "code",
   "execution_count": 21,
   "id": "cdcc6f38",
   "metadata": {},
   "outputs": [],
   "source": [
    "df_partidos.columns = df_partidos.columns.str.replace(' ', '_')"
   ]
  },
  {
   "cell_type": "code",
   "execution_count": 24,
   "id": "7159cb5d",
   "metadata": {},
   "outputs": [],
   "source": [
    "df_partidos.to_csv(\"data_tablas/Tabla_Partidos.csv\", index=False)"
   ]
  }
 ],
 "metadata": {
  "kernelspec": {
   "display_name": "venv",
   "language": "python",
   "name": "python3"
  },
  "language_info": {
   "codemirror_mode": {
    "name": "ipython",
    "version": 3
   },
   "file_extension": ".py",
   "mimetype": "text/x-python",
   "name": "python",
   "nbconvert_exporter": "python",
   "pygments_lexer": "ipython3",
   "version": "3.12.5"
  }
 },
 "nbformat": 4,
 "nbformat_minor": 5
}
