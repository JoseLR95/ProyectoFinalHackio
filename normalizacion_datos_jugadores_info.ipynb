{
 "cells": [
  {
   "cell_type": "code",
   "execution_count": 1,
   "id": "40feb25d",
   "metadata": {},
   "outputs": [],
   "source": [
    "import pandas as pd\n",
    "from rapidfuzz import process, fuzz\n",
    "import src as src\n",
    "pd.set_option('display.max_columns', None)"
   ]
  },
  {
   "cell_type": "code",
   "execution_count": 2,
   "id": "9926a3d0",
   "metadata": {},
   "outputs": [
    {
     "name": "stderr",
     "output_type": "stream",
     "text": [
      "C:\\Users\\pepel\\AppData\\Local\\Temp\\ipykernel_69628\\3719518088.py:1: DtypeWarning: Columns (0,1,3,11,12,19,34,37,39,40,41,42,43,44,45,46,47,49,50,51,52,53,55,56,57,58,59,60,71,73,92,93,94,95,96,97,98,99,100,101,102,103,104,105,106,107,108,109,110,111,112,113,114,115,116) have mixed types. Specify dtype option on import or set low_memory=False.\n",
      "  df_eventos = pd.read_csv(\"data/df_eventos_liga2015.csv\")\n"
     ]
    }
   ],
   "source": [
    "df_eventos = pd.read_csv(\"data/df_eventos_liga2015.csv\")"
   ]
  },
  {
   "cell_type": "code",
   "execution_count": 3,
   "id": "b5ea55f9",
   "metadata": {},
   "outputs": [],
   "source": [
    "df_jugadores_info = pd.read_csv(\"data/jugadores_info.csv\")"
   ]
  },
  {
   "cell_type": "code",
   "execution_count": null,
   "id": "deb58841",
   "metadata": {},
   "outputs": [],
   "source": [
    "df_jugadoresunicos_eventos = df_eventos[\"player\"].unique().tolist()\n",
    "df_jugadoresunicos_info = df_jugadores_info[\"playerFullName\"].unique().tolist()\n",
    "df_clubesunicos_eventos = df_eventos[\"team\"].unique().tolist()\n",
    "df_clubesunicos_info = df_jugadores_info[\"club\"].unique().tolist()"
   ]
  },
  {
   "cell_type": "code",
   "execution_count": null,
   "id": "38da5702",
   "metadata": {},
   "outputs": [],
   "source": [
    "df_nombres = src.normalizacion_nombres(df_jugadoresunicos_info, df_jugadoresunicos_eventos)"
   ]
  },
  {
   "cell_type": "code",
   "execution_count": null,
   "id": "8ba5b982",
   "metadata": {},
   "outputs": [],
   "source": [
    "df_clubes = src.normalizacion_nombres(df_clubesunicos_info, df_clubesunicos_eventos)"
   ]
  },
  {
   "cell_type": "code",
   "execution_count": null,
   "id": "85de85b9",
   "metadata": {},
   "outputs": [],
   "source": [
    "# Crear diccionario para mapear los nombres\n",
    "dict_nombres_info = df_nombres.set_index('Nombre_original')['Nombre_unificado'].to_dict()\n",
    "# Mapear nombres jugadores\n",
    "df_jugadores_info[\"playerFullName\"] = df_jugadores_info[\"playerFullName\"].apply(\n",
    "    lambda x: dict_nombres_info.get(x, x) if dict_nombres_info.get(x) is not None else x)"
   ]
  },
  {
   "cell_type": "code",
   "execution_count": 59,
   "id": "28d5f046",
   "metadata": {},
   "outputs": [],
   "source": [
    "# Crear diccionario para mapear los equipos\n",
    "df_equipos_jugadores = df_eventos[[\"player\", \"team\"]].drop_duplicates()\n",
    "dict_equipos_jugadores = dict(zip(df_equipos_jugadores[\"player\"], df_equipos_jugadores[\"team\"]))\n",
    "# Mapear los equipos en la temporada 2015/2016 ya que la info que aparece es actual\n",
    "df_jugadores_info[\"club\"] = df_jugadores_info[\"playerFullName\"].map(dict_equipos_jugadores)"
   ]
  },
  {
   "cell_type": "code",
   "execution_count": 62,
   "id": "c24af9cb",
   "metadata": {},
   "outputs": [],
   "source": [
    "# Crear diccionarios para mapear los IDs de jugador y equipo\n",
    "df_equipos = df_eventos[[\"team\", \"team_id\"]].drop_duplicates()\n",
    "dict_equipos = dict(zip(df_equipos[\"team\"], df_equipos[\"team_id\"]))\n",
    "df_jugadores = df_eventos[[\"player\", \"player_id\"]].drop_duplicates()\n",
    "dict_jugadores = dict(zip(df_jugadores[\"player\"], df_jugadores[\"player_id\"]))"
   ]
  },
  {
   "cell_type": "code",
   "execution_count": 63,
   "id": "e49f05b6",
   "metadata": {},
   "outputs": [],
   "source": [
    "# Mapear ID Jugadores\n",
    "df_jugadores_info[\"playerID\"] = df_jugadores_info[\"playerFullName\"].map(dict_jugadores)\n",
    "# Mapear ID Equipos\n",
    "df_jugadores_info[\"clubID\"] = df_jugadores_info[\"club\"].map(dict_equipos)"
   ]
  },
  {
   "cell_type": "code",
   "execution_count": 65,
   "id": "62bfeded",
   "metadata": {},
   "outputs": [],
   "source": [
    "df_jugadores_info.to_csv(\"data/jugadores_info_normalizado.csv\", index=False)"
   ]
  }
 ],
 "metadata": {
  "kernelspec": {
   "display_name": "venv",
   "language": "python",
   "name": "python3"
  },
  "language_info": {
   "codemirror_mode": {
    "name": "ipython",
    "version": 3
   },
   "file_extension": ".py",
   "mimetype": "text/x-python",
   "name": "python",
   "nbconvert_exporter": "python",
   "pygments_lexer": "ipython3",
   "version": "3.12.5"
  }
 },
 "nbformat": 4,
 "nbformat_minor": 5
}
