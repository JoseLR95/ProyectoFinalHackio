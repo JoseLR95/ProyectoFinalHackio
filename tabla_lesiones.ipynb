{
 "cells": [
  {
   "cell_type": "code",
   "execution_count": 1,
   "id": "d15efdd8",
   "metadata": {},
   "outputs": [],
   "source": [
    "import pandas as pd\n",
    "pd.set_option('display.max_columns', None)"
   ]
  },
  {
   "cell_type": "code",
   "execution_count": 2,
   "id": "f6851281",
   "metadata": {},
   "outputs": [],
   "source": [
    "df_lesiones = pd.read_csv(\"data/lesiones_completo_normalizado.csv\")"
   ]
  },
  {
   "cell_type": "code",
   "execution_count": 4,
   "id": "f6b841cb",
   "metadata": {},
   "outputs": [],
   "source": [
    "df_lesiones.rename(columns = {\n",
    "    'JUGADOR': 'Nombre_Jugador',\n",
    "    'href': 'Nombre_Completo_Jugador',\n",
    "    'equipo': 'Club',\n",
    "    'TIPO': 'Tipo_Lesion',\n",
    "    'SUB TIPO': 'Sub_Tipo_Lesion',\n",
    "    'TIPO_ID': 'Tipo_Lesion_ID',\n",
    "    'SUB_TIPO_ID': 'Sub_Tipo_Lesion_ID',\n",
    "    'DATA': 'Fecha_incio_lesion',\n",
    "    'FIM': 'Fecha_fin_lesion'\n",
    "}, inplace = True)"
   ]
  },
  {
   "cell_type": "code",
   "execution_count": 6,
   "id": "2b052a68",
   "metadata": {},
   "outputs": [],
   "source": [
    "df_lesiones.to_csv(\"data_tablas/Tabla_Lesiones.csv\", index=False)"
   ]
  }
 ],
 "metadata": {
  "kernelspec": {
   "display_name": "venv",
   "language": "python",
   "name": "python3"
  },
  "language_info": {
   "codemirror_mode": {
    "name": "ipython",
    "version": 3
   },
   "file_extension": ".py",
   "mimetype": "text/x-python",
   "name": "python",
   "nbconvert_exporter": "python",
   "pygments_lexer": "ipython3",
   "version": "3.12.5"
  }
 },
 "nbformat": 4,
 "nbformat_minor": 5
}
