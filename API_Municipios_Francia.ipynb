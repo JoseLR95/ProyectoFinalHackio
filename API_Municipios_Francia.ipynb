{
 "cells": [
  {
   "cell_type": "code",
   "execution_count": 1,
   "id": "b3cf9cf5",
   "metadata": {},
   "outputs": [],
   "source": [
    "import requests"
   ]
  },
  {
   "cell_type": "code",
   "execution_count": 5,
   "id": "08a942d4",
   "metadata": {},
   "outputs": [],
   "source": [
    "url = \"https://geo.api.gouv.fr/departements/64/communes?fields=nom,code,codesPostaux,siren,codeEpci,codeDepartement,codeRegion,population&format=json&geometry=centre\"\n",
    "response = requests.get(url)\n",
    "comunas = response.json()"
   ]
  },
  {
   "cell_type": "code",
   "execution_count": 14,
   "id": "3507889a",
   "metadata": {},
   "outputs": [],
   "source": [
    "lista_comunas = []\n",
    "for x in comunas:\n",
    "    lista_comunas.append(x[\"nom\"])"
   ]
  }
 ],
 "metadata": {
  "kernelspec": {
   "display_name": "venv",
   "language": "python",
   "name": "python3"
  },
  "language_info": {
   "codemirror_mode": {
    "name": "ipython",
    "version": 3
   },
   "file_extension": ".py",
   "mimetype": "text/x-python",
   "name": "python",
   "nbconvert_exporter": "python",
   "pygments_lexer": "ipython3",
   "version": "3.12.5"
  }
 },
 "nbformat": 4,
 "nbformat_minor": 5
}
