{
 "cells": [
  {
   "cell_type": "code",
   "execution_count": 23,
   "id": "cafd70ca",
   "metadata": {},
   "outputs": [],
   "source": [
    "import pandas as pd\n",
    "pd.set_option('display.max_columns', None)"
   ]
  },
  {
   "cell_type": "code",
   "execution_count": 24,
   "id": "3ff8e89c",
   "metadata": {},
   "outputs": [],
   "source": [
    "df_completo = pd.read_csv(\"data/jugadores_info_normalizado.csv\")\n"
   ]
  },
  {
   "cell_type": "code",
   "execution_count": 25,
   "id": "3f7ee292",
   "metadata": {},
   "outputs": [],
   "source": [
    "df_clubs = df_completo[[\"club\", \"clubID\"]].drop_duplicates().dropna().reset_index().drop(columns = [\"index\"])"
   ]
  },
  {
   "cell_type": "code",
   "execution_count": 26,
   "id": "8c99f3cd",
   "metadata": {},
   "outputs": [],
   "source": [
    "df_clubs.to_csv(\"data_tablas/Tabla_Equipos.csv\", index=False)"
   ]
  }
 ],
 "metadata": {
  "kernelspec": {
   "display_name": "venv",
   "language": "python",
   "name": "python3"
  },
  "language_info": {
   "codemirror_mode": {
    "name": "ipython",
    "version": 3
   },
   "file_extension": ".py",
   "mimetype": "text/x-python",
   "name": "python",
   "nbconvert_exporter": "python",
   "pygments_lexer": "ipython3",
   "version": "3.12.5"
  }
 },
 "nbformat": 4,
 "nbformat_minor": 5
}
